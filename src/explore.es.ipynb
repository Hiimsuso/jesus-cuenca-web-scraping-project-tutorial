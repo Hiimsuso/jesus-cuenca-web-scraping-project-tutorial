{
    "cells": [
        {
            "cell_type": "markdown",
            "metadata": {},
            "source": [
                "# Explora aquí\n",
                "\n",
                "Se recomienda utilizar este cuaderno con fines de exploración."
            ]
        },
        {
            "cell_type": "code",
            "execution_count": 51,
            "metadata": {},
            "outputs": [],
            "source": [
                "import os\n",
                "from bs4 import BeautifulSoup\n",
                "import requests\n",
                "import pandas as pd\n",
                "import time\n",
                "import sqlite3\n",
                "import matplotlib.pyplot as plt\n",
                "import seaborn as sns\n",
                "\n"
            ]
        },
        {
            "cell_type": "code",
            "execution_count": 55,
            "metadata": {},
            "outputs": [
                {
                    "name": "stdout",
                    "output_type": "stream",
                    "text": [
                        "       0         1        2\n",
                        "0   2024  $97.15 B    0.39%\n",
                        "1   2023  $96.77 B    18.8%\n",
                        "2   2022  $81.46 B   51.35%\n",
                        "3   2021  $53.82 B   70.67%\n",
                        "4   2020  $31.53 B   28.31%\n",
                        "5   2019  $24.57 B   14.52%\n",
                        "6   2018  $21.46 B   82.51%\n",
                        "7   2017  $11.75 B   67.98%\n",
                        "8   2016   $7.00 B   73.01%\n",
                        "9   2015   $4.04 B    26.5%\n",
                        "10  2014   $3.19 B   58.85%\n",
                        "11  2013   $2.01 B  387.23%\n",
                        "12  2012   $0.41 B  102.34%\n",
                        "13  2011   $0.20 B   74.95%\n",
                        "14  2010   $0.11 B    4.29%\n",
                        "15  2009   $0.11 B         \n"
                    ]
                },
                {
                    "name": "stderr",
                    "output_type": "stream",
                    "text": [
                        "/var/folders/72/kf09dnsd1wb18f08628cdsxm0000gn/T/ipykernel_51201/3663697197.py:26: FutureWarning: DataFrame.applymap has been deprecated. Use DataFrame.map instead.\n",
                        "  tabla_corregida = tabla.applymap(lambda x: (x.replace(\"B\", \"\").replace(\"$\", \"\").replace(\"%\", \"\").replace(\" \",\"\")))\n"
                    ]
                }
            ],
            "source": [
                "url ='https://companies-market-cap-copy.vercel.app/index.html'\n",
                "\n",
                "response = requests.get(url)\n",
                "\n",
                "soup = BeautifulSoup(response.text, \"html.parser\")\n",
                "\n",
                "\n",
                "soup_find_table = soup.find('div', class_ = 'profile-container pt-3').find('div', style = 'overflow-y: scroll;') # Busco dentro del objeto soup a travez de los div que encuentro tras utilizar las herramientas de desarrollador de nuestro navegador.\n",
                "\n",
                "soup_table = soup_find_table.find('table') # Vuelvo a buscar de la misma manera pero ahora solo me quedo con la tabla. \n",
                "\n",
                "cells_of_table = soup_table.find_all('td') # vuelvo a buscar y me quedo con todas las celdas de la tabla.\n",
                "\n",
                "texto_celdas = [celda.text.strip() for celda in cells_of_table]\n",
                "\n",
                "lista =[]\n",
                "for numbers in range(0, len(texto_celdas), 3):\n",
                "    año = texto_celdas[numbers]\n",
                "    dinero = texto_celdas[numbers + 1]\n",
                "    cambio = texto_celdas[numbers + 2]\n",
                "    lista.append([año, dinero, cambio])\n",
                "\n",
                "tabla = pd.DataFrame(lista)\n",
                "print(tabla)\n",
                "\n",
                "tabla_corregida = tabla.applymap(lambda x: (x.replace(\"B\", \"\").replace(\"$\", \"\").replace(\"%\", \"\").replace(\" \",\"\")))\n",
                "\n",
                "with sqlite3.connect('tesla.db') as con:\n",
                "    tabla_corregida.to_sql('Annual_Revenue', con, if_exists='replace', index=False) \n",
                "\n"
            ]
        },
        {
            "cell_type": "code",
            "execution_count": 39,
            "metadata": {},
            "outputs": [
                {
                    "name": "stdout",
                    "output_type": "stream",
                    "text": [
                        "('2024', '97.15 ', '0.39')\n",
                        "('2023', '96.77 ', '18.8')\n",
                        "('2022', '81.46 ', '51.35')\n",
                        "('2021', '53.82 ', '70.67')\n",
                        "('2020', '31.53 ', '28.31')\n",
                        "('2019', '24.57 ', '14.52')\n",
                        "('2018', '21.46 ', '82.51')\n",
                        "('2017', '11.75 ', '67.98')\n",
                        "('2016', '7.00 ', '73.01')\n",
                        "('2015', '4.04 ', '26.5')\n",
                        "('2014', '3.19 ', '58.85')\n",
                        "('2013', '2.01 ', '387.23')\n",
                        "('2012', '0.41 ', '102.34')\n",
                        "('2011', '0.20 ', '74.95')\n",
                        "('2010', '0.11 ', '4.29')\n",
                        "('2009', '0.11 ', '')\n"
                    ]
                }
            ],
            "source": [
                "# Muestro los resultados para verificar que he insertado bien los datos en la base de datos sql.\n",
                "with sqlite3.connect('tesla.db') as con:\n",
                "    \n",
                "    cursor = con.cursor() # Creo el cursor para ejecutar la consulta.\n",
                "    \n",
                "    \n",
                "    cursor.execute('SELECT * FROM Annual_Revenue') # Ejecuto la consulta SELECT para obtener todos los datos de la tabla.\n",
                "    \n",
                "    \n",
                "    data_rows = cursor.fetchall() # Obtener todos los resultados.\n",
                "    \n",
                "    \n",
                "    for row in data_rows: # Mostrar los resultados.\n",
                "        print(row)"
            ]
        }
    ],
    "metadata": {
        "kernelspec": {
            "display_name": "Python 3",
            "language": "python",
            "name": "python3"
        },
        "language_info": {
            "codemirror_mode": {
                "name": "ipython",
                "version": 3
            },
            "file_extension": ".py",
            "mimetype": "text/x-python",
            "name": "python",
            "nbconvert_exporter": "python",
            "pygments_lexer": "ipython3",
            "version": "3.13.1"
        },
        "orig_nbformat": 4
    },
    "nbformat": 4,
    "nbformat_minor": 2
}
